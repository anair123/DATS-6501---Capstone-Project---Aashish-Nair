{
  "nbformat": 4,
  "nbformat_minor": 0,
  "metadata": {
    "colab": {
      "name": "Baseline LSTM Model",
      "provenance": [],
      "collapsed_sections": []
    },
    "kernelspec": {
      "name": "python3",
      "display_name": "Python 3"
    },
    "language_info": {
      "name": "python"
    }
  },
  "cells": [
    {
      "cell_type": "markdown",
      "metadata": {
        "id": "a5u0wEIlEU1D"
      },
      "source": [
        "This file displays the code for building the baseline LSTM model and then using it to generate text for each celebrity. \n",
        "\n",
        "The steps are as follows:\n",
        "\n",
        "1. Load the data for the celebrity in question\n",
        "2. Convert the text into pairs of sequences and output characters that will serve as the input and output of the model respectively\n",
        "3. Build the LSTM model (no complexities).\n",
        "4. Train the model with the processed data.\n",
        "5. Use the model to generate text.\n",
        "6. Export the generated text with pickle. \n",
        "7. Repeat steps 1-6 for all celebrities"
      ]
    },
    {
      "cell_type": "code",
      "metadata": {
        "colab": {
          "base_uri": "https://localhost:8080/"
        },
        "id": "QgwMBSSVqrHR",
        "outputId": "82ac2c0c-fdc9-43aa-fca8-169903f3fea2"
      },
      "source": [
        "try:\n",
        "  from google.colab import drive\n",
        "  drive.mount('/content/drive')\n",
        "except:\n",
        "  print('File not in drive')"
      ],
      "execution_count": null,
      "outputs": [
        {
          "output_type": "stream",
          "text": [
            "File not in drive\n"
          ],
          "name": "stdout"
        }
      ]
    },
    {
      "cell_type": "code",
      "metadata": {
        "id": "iqWwdGzpq_U5"
      },
      "source": [
        "# import libraries\n",
        "import pickle\n",
        "import random\n",
        "import time\n",
        "import os\n",
        "import pandas as pd\n",
        "import numpy as np\n",
        "from keras.utils import np_utils\n",
        "from keras.models import Sequential\n",
        "from keras.layers import Dense, LSTM, Dropout\n",
        "from keras.callbacks import ModelCheckpoint, LambdaCallback\n",
        "import sys"
      ],
      "execution_count": null,
      "outputs": []
    },
    {
      "cell_type": "markdown",
      "metadata": {
        "id": "oY2E_iN-rE_Q"
      },
      "source": [
        "## Import Data"
      ]
    },
    {
      "cell_type": "code",
      "metadata": {
        "colab": {
          "base_uri": "https://localhost:8080/",
          "height": 568
        },
        "id": "Twglb60irGkU",
        "outputId": "c219a43c-88c6-4b89-e809-267c5564d2a0"
      },
      "source": [
        "# load preprocessed dataset\n",
        "pickle_in = open('df.pickle', 'rb')\n",
        "df = pickle.load(pickle_in)\n",
        "df.head()\n"
      ],
      "execution_count": null,
      "outputs": [
        {
          "output_type": "execute_result",
          "data": {
            "text/html": [
              "<div>\n",
              "<style scoped>\n",
              "    .dataframe tbody tr th:only-of-type {\n",
              "        vertical-align: middle;\n",
              "    }\n",
              "\n",
              "    .dataframe tbody tr th {\n",
              "        vertical-align: top;\n",
              "    }\n",
              "\n",
              "    .dataframe thead th {\n",
              "        text-align: right;\n",
              "    }\n",
              "</style>\n",
              "<table border=\"1\" class=\"dataframe\">\n",
              "  <thead>\n",
              "    <tr style=\"text-align: right;\">\n",
              "      <th></th>\n",
              "      <th>Username</th>\n",
              "      <th>User handle</th>\n",
              "      <th>Date of posting</th>\n",
              "      <th>Text</th>\n",
              "      <th>Retweet count</th>\n",
              "      <th>Like count</th>\n",
              "      <th>Occupation</th>\n",
              "      <th>Text (EPA)</th>\n",
              "      <th>Text (Model)</th>\n",
              "      <th>Word Count</th>\n",
              "    </tr>\n",
              "  </thead>\n",
              "  <tbody>\n",
              "    <tr>\n",
              "      <th>0</th>\n",
              "      <td>Alicia Keys</td>\n",
              "      <td>@aliciakeys</td>\n",
              "      <td>Fri Feb 12 03:16:07 +0000 2021</td>\n",
              "      <td>The maestro! The musical magician! The one and...</td>\n",
              "      <td>170</td>\n",
              "      <td>1973</td>\n",
              "      <td>Artist</td>\n",
              "      <td>maestro musical magician believe knew played s...</td>\n",
              "      <td>the maestro! the musical magician! the one and...</td>\n",
              "      <td>40</td>\n",
              "    </tr>\n",
              "    <tr>\n",
              "      <th>1</th>\n",
              "      <td>Alicia Keys</td>\n",
              "      <td>@aliciakeys</td>\n",
              "      <td>Wed Feb 10 21:31:09 +0000 2021</td>\n",
              "      <td>Your glow is about to be on 100,000!!! ✨As we ...</td>\n",
              "      <td>101</td>\n",
              "      <td>1171</td>\n",
              "      <td>Artist</td>\n",
              "      <td>glow 100,000 lead reminder love wait luminous ...</td>\n",
              "      <td>your glow is about to be on 100,000!!! as we l...</td>\n",
              "      <td>54</td>\n",
              "    </tr>\n",
              "    <tr>\n",
              "      <th>3</th>\n",
              "      <td>Alicia Keys</td>\n",
              "      <td>@aliciakeys</td>\n",
              "      <td>Wed Feb 10 01:32:56 +0000 2021</td>\n",
              "      <td>Woke up in such a good vibe.⁣ Gen was funky &amp;a...</td>\n",
              "      <td>267</td>\n",
              "      <td>3659</td>\n",
              "      <td>Artist</td>\n",
              "      <td>woke good vibe.⁣ funky fussy caught energy thi...</td>\n",
              "      <td>woke up in such a good vibe. gen was funky &amp;am...</td>\n",
              "      <td>52</td>\n",
              "    </tr>\n",
              "    <tr>\n",
              "      <th>4</th>\n",
              "      <td>Alicia Keys</td>\n",
              "      <td>@aliciakeys</td>\n",
              "      <td>Mon Feb 08 01:41:28 +0000 2021</td>\n",
              "      <td>One of my favorite small businesses is @unionl...</td>\n",
              "      <td>144</td>\n",
              "      <td>816</td>\n",
              "      <td>Artist</td>\n",
              "      <td>favorite small businesses unionlosangeles repl...</td>\n",
              "      <td>one of my favorite small businesses is@unionlo...</td>\n",
              "      <td>33</td>\n",
              "    </tr>\n",
              "    <tr>\n",
              "      <th>5</th>\n",
              "      <td>Alicia Keys</td>\n",
              "      <td>@aliciakeys</td>\n",
              "      <td>Mon Feb 08 01:22:00 +0000 2021</td>\n",
              "      <td>Dreaming of performing live \\nfor you!!! ✨✨✨✨\\...</td>\n",
              "      <td>275</td>\n",
              "      <td>5028</td>\n",
              "      <td>Artist</td>\n",
              "      <td>dreaming performing live city come meet tonight</td>\n",
              "      <td>dreaming of performing live for you!!! what ci...</td>\n",
              "      <td>21</td>\n",
              "    </tr>\n",
              "  </tbody>\n",
              "</table>\n",
              "</div>"
            ],
            "text/plain": [
              "      Username  ... Word Count\n",
              "0  Alicia Keys  ...         40\n",
              "1  Alicia Keys  ...         54\n",
              "3  Alicia Keys  ...         52\n",
              "4  Alicia Keys  ...         33\n",
              "5  Alicia Keys  ...         21\n",
              "\n",
              "[5 rows x 10 columns]"
            ]
          },
          "metadata": {
            "tags": []
          },
          "execution_count": 48
        }
      ]
    },
    {
      "cell_type": "code",
      "metadata": {
        "id": "9hNbpAqZrNF6"
      },
      "source": [
        "# convert list of texts to one corpus\n",
        "def corpus(df):\n",
        "  corpus = \"\"\n",
        "  for text in df['Text (Model)']:\n",
        "    corpus = corpus + str(text)\n",
        "  return corpus\n"
      ],
      "execution_count": null,
      "outputs": []
    },
    {
      "cell_type": "code",
      "metadata": {
        "colab": {
          "base_uri": "https://localhost:8080/"
        },
        "id": "XGt8qKAZwNaT",
        "outputId": "6694394c-bc19-4e97-8231-694d7dae452d"
      },
      "source": [
        "# create a list of names\n",
        "names = sorted(list(df['Username'].value_counts().index))\n",
        "print(names)"
      ],
      "execution_count": null,
      "outputs": [
        {
          "output_type": "stream",
          "text": [
            "['Alicia Keys', 'Anthony Joshua', 'Barack Obama', 'Bill Gates', \"Conan O'Brien\", 'Donald Trump', 'Dwayne Johnson', 'Elizabeth Warren', 'Ellen DeGeneres', 'Elon Musk', 'Emma Watson', 'Gordon Ramsay', 'Harry Styles.', 'Jeff Weiner', 'Joe Biden', 'John Cena', 'Kevin Durant', 'Kevin Hart', 'Kylie Jenner', 'Lady Gaga', 'LeBron James', 'Louis Tomlinson', 'Mariah Carey', 'Neil Patrick Harris', 'Oprah Winfrey', 'Pope Francis', 'Ronda Rousey', 'Tim Cook', 'Wiz Khalifa', 'daniel tosh', 'jimmy fallon']\n"
          ],
          "name": "stdout"
        }
      ]
    },
    {
      "cell_type": "code",
      "metadata": {
        "id": "rkkAekm-wRrA"
      },
      "source": [
        "# create a corpus for each celebrity\n",
        "corpuses = []\n",
        "for name in names:\n",
        "  df_name = df[df['Username'] == name]\n",
        "  corpus_name = corpus(df_name)\n",
        "  corpuses.append(corpus_name)\n",
        "\n",
        "# store names and corpuses in a new data frame\n",
        "df_corpus = pd.DataFrame()\n",
        "df_corpus['Name'] = names\n",
        "df_corpus['Corpus'] = corpuses"
      ],
      "execution_count": null,
      "outputs": []
    },
    {
      "cell_type": "code",
      "metadata": {
        "colab": {
          "base_uri": "https://localhost:8080/"
        },
        "id": "_NZbXP3Ss1PW",
        "outputId": "a9375fef-6e44-44cf-e2f2-c63bc46e2d00"
      },
      "source": [
        "# create a list of all characters\n",
        " \n",
        " \n",
        " chars = sorted(list(set(''.join(tweets))))\n",
        " print('Number of characters: ',len(chars))\n",
        "\n",
        "# create a dictionary assigning each character to a number\n",
        " char_number= dict((c,i) for i,c in enumerate(chars))\n",
        "\n",
        " # create a dictionary assigning each number to a character\n",
        " number_char = dict((i,c) for i,c in enumerate(chars))"
      ],
      "execution_count": null,
      "outputs": [
        {
          "output_type": "stream",
          "text": [
            "Number of characters:  58\n"
          ],
          "name": "stdout"
        }
      ]
    },
    {
      "cell_type": "code",
      "metadata": {
        "colab": {
          "base_uri": "https://localhost:8080/"
        },
        "id": "kJP0PutmE0Cm",
        "outputId": "5bbe678d-13c2-43f8-c612-7e257c70839f"
      },
      "source": [
        "# constants\n",
        "LENGTH = 50 # sequence length\n",
        "STEP = 1\n",
        "\n",
        "# input\n",
        "sentences = []\n",
        "\n",
        "# output\n",
        "next_char = []\n",
        "\n",
        "# create sequences and their corresponding output \n",
        "\n",
        "for x in tweets:\n",
        "  for i in range(0, len(x)- LENGTH, STEP):\n",
        "    sentences.append(x[i:i+LENGTH])\n",
        "    next_char.append(x[i+LENGTH])\n",
        "\n",
        "\n",
        "print('Number of sequences: ',len(sentences))"
      ],
      "execution_count": null,
      "outputs": [
        {
          "output_type": "stream",
          "text": [
            "Number of sequences:  46582\n"
          ],
          "name": "stdout"
        }
      ]
    },
    {
      "cell_type": "code",
      "metadata": {
        "id": "WQzr1It6Futh"
      },
      "source": [
        ""
      ],
      "execution_count": null,
      "outputs": []
    },
    {
      "cell_type": "markdown",
      "metadata": {
        "id": "sXdl6uikGJ9E"
      },
      "source": [
        "## Vectorization"
      ]
    },
    {
      "cell_type": "code",
      "metadata": {
        "id": "O6aH4gRSGLZy"
      },
      "source": [
        "# create input and output arrays\n",
        "x = np.zeros((len(sentences), LENGTH, len(chars)), dtype=np.bool)\n",
        "y = np.zeros((len(sentences), len(chars)), dtype=np.bool)\n",
        "\n",
        "# assign 1 for characters that are present in the char_number dictionary\n",
        "for i, sentence in enumerate(sentences):\n",
        "  for j, character in enumerate(sentence):\n",
        "    x[i, j, char_number[character]] = 1\n",
        "  y[i, char_number[next_char[i]]] = 1"
      ],
      "execution_count": null,
      "outputs": []
    },
    {
      "cell_type": "code",
      "metadata": {
        "colab": {
          "base_uri": "https://localhost:8080/"
        },
        "id": "I3HJzMKEGqqL",
        "outputId": "1a4f8323-03d5-450e-87fe-f491bbb68c51"
      },
      "source": [
        "# show x and y dimensions\n",
        "\n",
        "print('Dimensions of x: ',x.shape)\n",
        "print('Dimensions of y: ',y.shape)"
      ],
      "execution_count": null,
      "outputs": [
        {
          "output_type": "stream",
          "text": [
            "Dimensions of x:  (46582, 50, 58)\n",
            "Dimensions of y:  (46582, 58)\n"
          ],
          "name": "stdout"
        }
      ]
    },
    {
      "cell_type": "code",
      "metadata": {
        "id": "Z5qJfk3LG6_3"
      },
      "source": [
        ""
      ],
      "execution_count": null,
      "outputs": []
    },
    {
      "cell_type": "markdown",
      "metadata": {
        "id": "bCoPSqk8HAGj"
      },
      "source": [
        "## Model"
      ]
    },
    {
      "cell_type": "markdown",
      "metadata": {
        "id": "QCYHwbxgPLIw"
      },
      "source": [
        "## Baseline Model"
      ]
    },
    {
      "cell_type": "code",
      "metadata": {
        "id": "8--GmMo9HCFb"
      },
      "source": [
        "# build baseline model\n",
        "baseline_model = Sequential()\n",
        "baseline_model.add(LSTM(256, input_shape=(LENGTH, len(chars))))\n",
        "baseline_model.add(Dropout(0.25))\n",
        "baseline_model.add(Dense(len(chars), activation='softmax'))\n",
        "\n",
        "baseline_model.compile(loss = 'categorical_crossentropy', optimizer = 'adam')"
      ],
      "execution_count": null,
      "outputs": []
    },
    {
      "cell_type": "code",
      "metadata": {
        "id": "EWtgpbYyHwPk"
      },
      "source": [
        "# create a sample text with the model\n",
        "# temperature variable --> creativity, the higher, the more creative\n",
        "def create_sample(prediction, temperature = 1):\n",
        "  prediction = np.asarray(prediction).astype('float64')\n",
        "  prediction = np.log(prediction)/temperature\n",
        "  exp_preds = np.exp(prediction)\n",
        "  prediction = exp_preds/np.sum(exp_preds)\n",
        "  probability = np.random.multinomial(1,prediction, 1)\n",
        "  return np.argmax(probability)"
      ],
      "execution_count": null,
      "outputs": []
    },
    {
      "cell_type": "code",
      "metadata": {
        "id": "KLKwfkWxIF4D"
      },
      "source": [
        "# print text with generated sentences\n",
        "\n",
        "def print_text(epoch, _):\n",
        "  print()\n",
        "  print('Generating Text after Epoch ',epoch)\n",
        "\n",
        "  tweet = np.random.choice(tweets)\n",
        "  start_index = 0\n",
        "  for val in [0.5, 0.75 ,1.0, 1.25]:\n",
        "    print('Value: ', val)\n",
        "\n",
        "    generated = ''\n",
        "    sentence = tweet[start_index: start_index+LENGTH]\n",
        "    generated += sentence\n",
        "\n",
        "    print('Generated sentence: \"',sentence+'\"')\n",
        "    sys.stdout.write(generated)\n",
        "\n",
        "    for i in range(110):\n",
        "      x_pred = np.zeros((1, LENGTH, len(chars)))\n",
        "      for j, character in enumerate(sentence):\n",
        "        x_pred[0, j, char_number[character]] = 1\n",
        "\n",
        "      prediction = baseline_model.predict(x_pred, verbose=0)[0]\n",
        "      next_index = create_sample(prediction, val)\n",
        "      next_char = number_char[next_index]\n",
        "\n",
        "      generated += next_char\n",
        "      sentence = sentence[1:] + next_char\n",
        "\n",
        "      sys.stdout.write(next_char)\n",
        "      sys.stdout.flush()\n",
        "    print()\n"
      ],
      "execution_count": null,
      "outputs": []
    },
    {
      "cell_type": "code",
      "metadata": {
        "colab": {
          "base_uri": "https://localhost:8080/"
        },
        "id": "ktyyejGMJps7",
        "outputId": "8f02880d-93cb-4628-f5c8-31e55f368336"
      },
      "source": [
        "# train model\n",
        "\n",
        "EPOCHS = 20\n",
        "\n",
        "print_callback = LambdaCallback(on_epoch_end=print_text)\n",
        "\n",
        "baseline_model.fit(x, y, batch_size=128, epochs=EPOCHS, callbacks=[print_callback])"
      ],
      "execution_count": null,
      "outputs": [
        {
          "output_type": "stream",
          "text": [
            "Epoch 1/20\n",
            "364/364 [==============================] - 117s 318ms/step - loss: 3.2079\n",
            "\n",
            "Generating Text after Epoch  0\n",
            "Value:  0.5\n",
            "Generated sentence: \" news &amp; jokes for thursday 8/13/20. #fallontoni\"\n",
            "news &amp; jokes for thursday 8/13/20. #fallontonigh  and ona corsmint afe ong ingt !e yosane fon at aon one ar ine aou antinit an  fol on ond fani the yo wand \n",
            "Value:  0.75\n",
            "Generated sentence: \" news &amp; jokes for thursday 8/13/20. #fallontoni\"\n",
            "news &amp; jokes for thursday 8/13/20. #fallontonigw#fatlonsanshp wi ion ffolonthncone  wo lardonig thmrriin #sa ofaelonght wiy ahgad lcon. forione tfos and yor\n",
            "Value:  1.0\n",
            "Generated sentence: \" news &amp; jokes for thursday 8/13/20. #fallontoni\"\n",
            "news &amp; jokes for thursday 8/13/20. #fallontonieut n toisthwos jakst es tyfrcileor,yonitk! wi.! #ulee tr! fon s y, asu@onal. and yu.iigpirgh7. remmw@sona .os\n",
            "Value:  1.25\n",
            "Generated sentence: \" news &amp; jokes for thursday 8/13/20. #fallontoni\"\n",
            "news &amp; jokes for thursday 8/13/20. #fallontonit tht tknl iun.# heb.!. h wd mnoe)w!! !isg th neocent qhosinr jfeoe sweranepemacn!ek y 2e.#rr& oaoncanig lozts\n",
            "Epoch 2/20\n",
            "364/364 [==============================] - 115s 315ms/step - loss: 2.5451\n",
            "\n",
            "Generating Text after Epoch  1\n",
            "Value:  0.5\n",
            "Generated sentence: \" ive always felt like tom brady and i had a lot in \"\n",
            "ive always felt like tom brady and i had a lot in  he mrer #fallontonight #fallontonight #fallontonight #fallontonight #fallonmonight #fallontonight #fallontoni\n",
            "Value:  0.75\n",
            "Generated sentence: \" ive always felt like tom brady and i had a lot in \"\n",
            "ive always felt like tom brady and i had a lot in gon onmere plan you  wtor thendrell nar #fallon bo ho for mom the sous! bo g th in wero moule toong cou, ase s\n",
            "Value:  1.0\n",
            "Generated sentence: \" ive always felt like tom brady and i had a lot in \"\n",
            "ive always felt like tom brady and i had a lot in in bive duep yh yoro it mathicsham  our qy oreryougle lin y. @falk. @alton th. man and wepe cd fol wopind to s\n",
            "Value:  1.25\n",
            "Generated sentence: \" ive always felt like tom brady and i had a lot in \"\n",
            "ive always felt like tom brady and i had a lot in onn wyom j5o ko 4adsfir hr!!! uajot.ayith. llla. e sui5d) eod ons be iuli,y.5 wad as: ani viigt d:mf!! #sid ng\n",
            "Epoch 3/20\n",
            "364/364 [==============================] - 114s 314ms/step - loss: 2.2910\n",
            "\n",
            "Generating Text after Epoch  2\n",
            "Value:  0.5\n",
            "Generated sentence: \" alright alright - you guys are gonna make me emoti\"\n",
            "alright alright - you guys are gonna make me emoting the chank how with thatk ara and ard ig and an there thing the the farme the shith and the sowith #fallonto\n",
            "Value:  0.75\n",
            "Generated sentence: \" alright alright - you guys are gonna make me emoti\"\n",
            "alright alright - you guys are gonna make me emotist ant an anlive you the tith wide youn hekey or @emareatinafxor @badima+lafzsim. in the and thing rowket and \n",
            "Value:  1.0\n",
            "Generated sentence: \" alright alright - you guys are gonna make me emoti\"\n",
            "alright alright - you guys are gonna make me emotiks @wsapborcunrealb ictore an shorkt - anctelt, ac tul mode.. #fallonfonisht thet ate you wiok and iteforsigad\n",
            "Value:  1.25\n",
            "Generated sentence: \" alright alright - you guys are gonna make me emoti\"\n",
            "alright alright - you guys are gonna make me emotin lusa2 @on3\". @falanmaaveey 1-cing @#tomtonpit wowk #pfcuhcevyon #nomayos ononish biek afr.s pand ypinm hinsg\n",
            "Epoch 4/20\n",
            "364/364 [==============================] - 115s 317ms/step - loss: 2.1566\n",
            "\n",
            "Generating Text after Epoch  3\n",
            "Value:  0.5\n",
            "Generated sentence: \" oooh yeah its happening every night and weve upped\"\n",
            "oooh yeah its happening every night and weve upped and the she sone so lis the show thow you to the you to the show and and show rad  a peran and ing mish whis \n",
            "Value:  0.75\n",
            "Generated sentence: \" oooh yeah its happening every night and weve upped\"\n",
            "oooh yeah its happening every night and weve upped you wave the  aere boco gon you dyou fall couins tho sher sout an - perand msoca a , and s sing you bo fa de \n",
            "Value:  1.0\n",
            "Generated sentence: \" oooh yeah its happening every night and weve upped\"\n",
            "oooh yeah its happening every night and weve upped and mero of ar ominis rerc uost jale is crereall. hould - o ahe chat gore ca ktyk. on th kew!! #fallontooight\n",
            "Value:  1.25\n",
            "Generated sentence: \" oooh yeah its happening every night and weve upped\"\n",
            "oooh yeah its happening every night and weve upped$, beeco pausel the! anget and  a prow mucg combithldthe t omi #jiilsox mopuikowo latsiwh!!! pluraeinxmb.ics a\n",
            "Epoch 5/20\n",
            "364/364 [==============================] - 115s 317ms/step - loss: 2.0339\n",
            "\n",
            "Generating Text after Epoch  4\n",
            "Value:  0.5\n",
            "Generated sentence: \" the tonight show (@thelonelyisland, @chefjoseandre\"\n",
            "the tonight show (@thelonelyisland, @chefjoseandrelore and tag it with #sapdyon @kinemonga con @abcone #fallontonight #fallonmono hame you the seaning rom thang\n",
            "Value:  0.75\n",
            "Generated sentence: \" the tonight show (@thelonelyisland, @chefjoseandre\"\n",
            "the tonight show (@thelonelyisland, @chefjoseandrexs and aap from @nocneamoma s cound ther ore ouv @ablerifane @sob one theve sool conther this truns corrans an\n",
            "Value:  1.0\n",
            "Generated sentence: \" the tonight show (@thelonelyisland, @chefjoseandre\"\n",
            "the tonight show (@thelonelyisland, @chefjoseandrecana dimune g hewor. thans gie farer domtriog andt? ghouive pove on mepedither.. chfalo tm ichfurd celllresiin\n",
            "Value:  1.25\n",
            "Generated sentence: \" the tonight show (@thelonelyisland, @chefjoseandre\"\n",
            "the tonight show (@thelonelyisland, @chefjoseandrepn, htirim, ant nith lep bam0 a'vre8! &av 4icha newey, caeker 8cwore fren carbt be oe dees te pe iov. yhu win \n",
            "Epoch 6/20\n",
            "364/364 [==============================] - 115s 316ms/step - loss: 1.9414\n",
            "\n",
            "Generating Text after Epoch  5\n",
            "Value:  0.5\n",
            "Generated sentence: \" news &amp; jokes for wednesday morning 7/29/20  #f\"\n",
            "news &amp; jokes for wednesday morning 7/29/20  #fallontonight #fallonmono @mome love to mo and somer the fallon the show to music for the mist call ot daing ti\n",
            "Value:  0.75\n",
            "Generated sentence: \" news &amp; jokes for wednesday morning 7/29/20  #f\"\n",
            "news &amp; jokes for wednesday morning 7/29/20  #fellontonight #fallonmono @done stillicame in and - dister at at some hin stat by comenets to dock and @shorend\n",
            "Value:  1.0\n",
            "Generated sentence: \" news &amp; jokes for wednesday morning 7/29/20  #f\"\n",
            "news &amp; jokes for wednesday morning 7/29/20  #fallontonight #fallonmono @von he! bou, you reat tono: thing ba and makist mishe gone 'us yo ave ti mees dere f\n",
            "Value:  1.25\n",
            "Generated sentence: \" news &amp; jokes for wednesday morning 7/29/20  #f\"\n",
            "news &amp; jokes for wednesday morning 7/29/20  #fanllonionigtteniga1erod jacmyrosn ctat abr.). your fov. it rogl kxac fau mevily., yed yrobe amy whic te minhto\n",
            "Epoch 7/20\n",
            "364/364 [==============================] - 115s 315ms/step - loss: 1.8676\n",
            "\n",
            "Generating Text after Epoch  6\n",
            "Value:  0.5\n",
            "Generated sentence: \" .@queereye's fab five and i ride \"the beast\"  #fal\"\n",
            ".@queereye's fab five and i ride \"the beast\"  #fallontonight ting bo and my or the the erustcning and more for the mist ur the permingond we han song with #ther\n",
            "Value:  0.75\n",
            "Generated sentence: \" .@queereye's fab five and i ride \"the beast\"  #fal\"\n",
            ".@queereye's fab five and i ride \"the beast\"  #fallontonight  ot with @busnanliongit tunt llo. what you the prookrend light in the aroyfubing @dands, and upporf\n",
            "Value:  1.0\n",
            "Generated sentence: \" .@queereye's fab five and i ride \"the beast\"  #fal\"\n",
            ".@queereye's fab five and i ride \"the beast\"  #fallontonight @libelyhis @mokerforfomm wack fou the #tappebofre, @ndrefbl,e@lowellsce fron fhomr torla say how. #\n",
            "Value:  1.25\n",
            "Generated sentence: \" .@queereye's fab five and i ride \"the beast\"  #fal\"\n",
            ".@queereye's fab five and i ride \"the beast\"  #fallontonight @td#yo - #agrec and maclek ups bryte nbr:4rellbilt*) birsfoklove agdo- k\"skca k mwe) the ghatig!! !\n",
            "Epoch 8/20\n",
            "364/364 [==============================] - 114s 314ms/step - loss: 1.8017\n",
            "\n",
            "Generating Text after Epoch  7\n",
            "Value:  0.5\n",
            "Generated sentence: \" see you tonight for a sea shanty #driverslicense @\"\n",
            "see you tonight for a sea shanty #driverslicense @thereswalky for she the fall ne the show!!  @fallontonight  #fallontonight #fallontonight #fallonmono hove #fa\n",
            "Value:  0.75\n",
            "Generated sentence: \" see you tonight for a sea shanty #driverslicense @\"\n",
            "see you tonight for a sea shanty #driverslicense @andcaneellerad #ftolistersterdsing #walkongads! pefformance from #fallonathnight!!! to fon hape  on maming.. m\n",
            "Value:  1.0\n",
            "Generated sentence: \" see you tonight for a sea shanty #driverslicense @\"\n",
            "see you tonight for a sea shanty #driverslicense @dunnagongings &amp; @besc9_xtw is histort. man far  rattie. a lofe in. #innin and @sachatder, and sund frus #f\n",
            "Value:  1.25\n",
            "Generated sentence: \" see you tonight for a sea shanty #driverslicense @\"\n",
            "see you tonight for a sea shanty #driverslicense @gaskmeilkjbwionhxinhorsstichers!)  #nacontonbats plofiusuds . 7?a so plalt ofam.!?!! #bylunbay stoal. have lin\n",
            "Epoch 9/20\n",
            "364/364 [==============================] - 115s 317ms/step - loss: 1.7468\n",
            "\n",
            "Generating Text after Epoch  8\n",
            "Value:  0.5\n",
            "Generated sentence: \" fun show tonight with paul giamatti, @chrissymetz \"\n",
            "fun show tonight with paul giamatti, @chrissymetz @naminamazhis and music from @callealana. #stordid and @aschorks and @carrond wish and @jon_andereanda, @ideri\n",
            "Value:  0.75\n",
            "Generated sentence: \" fun show tonight with paul giamatti, @chrissymetz \"\n",
            "fun show tonight with paul giamatti, @chrissymetz and @bareadsalupin, and music from @chrayleesterdar! #fallontonight #halewwerasperchastionilsodaydoneandepsori\n",
            "Value:  1.0\n",
            "Generated sentence: \" fun show tonight with paul giamatti, @chrissymetz \"\n",
            "fun show tonight with paul giamatti, @chrissymetz @dacharichio, and music from @ioramirfi_rn! #fallontonight #fallonmonight shew ant???!! shanse. eithyou do.. t\n",
            "Value:  1.25\n",
            "Generated sentence: \" fun show tonight with paul giamatti, @chrissymetz \"\n",
            "fun show tonight with paul giamatti, @chrissymetz #nes_musop%f\" #enes barei!!!!! hame queroninow!... wondich plys ant thi, quatamctorichacwa2. #andondanyaugrdii\n",
            "Epoch 10/20\n",
            "364/364 [==============================] - 115s 315ms/step - loss: 1.6927\n",
            "\n",
            "Generating Text after Epoch  9\n",
            "Value:  0.5\n",
            "Generated sentence: \" ive teamed up with @mackidsbooks to support @first\"\n",
            "ive teamed up with @mackidsbooks to support @firstere cople at happert and the tag it with #dusterssupporiceix for sang on the show! #fallontonight tonight a to\n",
            "Value:  0.75\n",
            "Generated sentence: \" ive teamed up with @mackidsbooks to support @first\"\n",
            "ive teamed up with @mackidsbooks to support @firstroranwe the gotand far have on the show work to stell the game the thome to and. the ke whir tonight a abrook \n",
            "Value:  1.0\n",
            "Generated sentence: \" ive teamed up with @mackidsbooks to support @first\"\n",
            "ive teamed up with @mackidsbooks to support @firstrihe! #dayccerenomost peroomane mo8r ow s@evillyne have to we chat. is'ent. @sadangeequars @fatesfallon #itsuj\n",
            "Value:  1.25\n",
            "Generated sentence: \" ive teamed up with @mackidsbooks to support @first\"\n",
            "ive teamed up with @mackidsbooks to support @first-timefors oure booky!!! poud a hesteones lekidsen &ampelstur - @fxhorlsg fiml pe rewo, @ew!!. #fallenainet #uo\n",
            "Epoch 11/20\n",
            "364/364 [==============================] - 115s 316ms/step - loss: 1.6350\n",
            "\n",
            "Generating Text after Epoch  10\n",
            "Value:  0.5\n",
            "Generated sentence: \" they didnt mention he also sang that cha cha chach\"\n",
            "they didnt mention he also sang that cha cha chaching be the meand and togitho is. i mone done hor song the show! #fallontonight #fallontonight #fallontonight #\n",
            "Value:  0.75\n",
            "Generated sentence: \" they didnt mention he also sang that cha cha chach\"\n",
            "they didnt mention he also sang that cha cha chach the stoning to go. he a sond of over book oo the master beathand it @anday and mac in perimere and buste tol.\n",
            "Value:  1.0\n",
            "Generated sentence: \" they didnt mention he also sang that cha cha chach\"\n",
            "they didnt mention he also sang that cha cha chach on anc moveen) ! @paz_ly hand you'ch chaars and tagsio wlive cealdi? ill ou : bo the @fallontinh #geewils. co\n",
            "Value:  1.25\n",
            "Generated sentence: \" they didnt mention he also sang that cha cha chach\"\n",
            "they didnt mention he also sang that cha cha chach it wandourb cobenet this one my. alpzor wele kpota the - motill breangiy. wht on mysting.! if.. hamcz #aldocp\n",
            "Epoch 12/20\n",
            "364/364 [==============================] - 116s 319ms/step - loss: 1.5646\n",
            "\n",
            "Generating Text after Epoch  11\n",
            "Value:  0.5\n",
            "Generated sentence: \" the tonight show is brand new starting tonight wit\"\n",
            "the tonight show is brand new starting tonight with #didtorfallong the show tonight the our the tuncing song. #besonfallon #fallontonight #fallontonight #fallon\n",
            "Value:  0.75\n",
            "Generated sentence: \" the tonight show is brand new starting tonight wit\"\n",
            "the tonight show is brand new starting tonight with @rowbertrest #fasling @whorebthank @fal*ontonight #fallontonight #dayzyingavere to ghat is somey and and far\n",
            "Value:  1.0\n",
            "Generated sentence: \" the tonight show is brand new starting tonight wit\"\n",
            "the tonight show is brand new starting tonight with your voch. love you and mekonith:  be:d woth. chald ded staed. go coing to souget on  #thoweddeat! tim ligtm\n",
            "Value:  1.25\n",
            "Generated sentence: \" the tonight show is brand new starting tonight wit\"\n",
            "the tonight show is brand new starting tonight with @lblhidoata shoe why llay! #hartingad) @orevasinvandis inthes and roud thic shewobr.ster do sur - itton, tha\n",
            "Epoch 13/20\n",
            "364/364 [==============================] - 115s 315ms/step - loss: 1.5061\n",
            "\n",
            "Generating Text after Epoch  12\n",
            "Value:  0.5\n",
            "Generated sentence: \" watching @camila_cabello and @vancityreynolds on @\"\n",
            "watching @camila_cabello and @vancityreynolds on @nbc and @challiea and @theroots #fallontonight tonight suppertical caranit  #fallontonight #fallontonight #fal\n",
            "Value:  0.75\n",
            "Generated sentence: \" watching @camila_cabello and @vancityreynolds on @\"\n",
            "watching @camila_cabello and @vancityreynolds on @fallontonight #fallontonight #talksus, @fillingisquare persongsing the is new and @momin_corbs plus parf @mich\n",
            "Value:  1.0\n",
            "Generated sentence: \" watching @camila_cabello and @vancityreynolds on @\"\n",
            "watching @camila_cabello and @vancityreynolds on @sbanfildoboregrfers @perloccrer and @mecincesanda. @fuslinewoods and @kerfbrost! plus, @uscarrinelong!!#for 2 \n",
            "Value:  1.25\n",
            "Generated sentence: \" watching @camila_cabello and @vancityreynolds on @\"\n",
            "watching @camila_cabello and @vancityreynolds on @alanet -nith @qurincallersgobrotriuny and @srlmyrichta - gie kuich ot lake. #gatserlaci4iot and kreginn. quare\n",
            "Epoch 14/20\n",
            "364/364 [==============================] - 115s 316ms/step - loss: 1.4343\n",
            "\n",
            "Generating Text after Epoch  13\n",
            "Value:  0.5\n",
            "Generated sentence: \" we just wanted to take this moment to say... goodb\"\n",
            "we just wanted to take this moment to say... goodbe to support a funny or weird to gut you!!! #hampentinefay #allonesumetichell and music from @thediotinewort) \n",
            "Value:  0.75\n",
            "Generated sentence: \" we just wanted to take this moment to say... goodb\"\n",
            "we just wanted to take this moment to say... goodbat comeniding or summery a some oo the #fisthewerdongsit with @kestartander, and music from @therostirestanny!\n",
            "Value:  1.0\n",
            "Generated sentence: \" we just wanted to take this moment to say... goodb\"\n",
            "we just wanted to take this moment to say... goodbe the reep. ct. the show most on the wawtlle. i swilitu chment guts that #fallontonight #themostayss about do.\n",
            "Value:  1.25\n",
            "Generated sentence: \" we just wanted to take this moment to say... goodb\"\n",
            "we just wanted to take this moment to say... goodbatiday hat, you tike. . and ga. on cyrssart!!!? ?ee sely it make &ytmoretmort, sher do surd for an 1 folofuter\n",
            "Epoch 15/20\n",
            "364/364 [==============================] - 114s 314ms/step - loss: 1.3803\n",
            "\n",
            "Generating Text after Epoch  14\n",
            "Value:  0.5\n",
            "Generated sentence: \" thank you for the question! we loved it. \"\n",
            "thank you for the question! we loved it. eaaieaaiaaac  aaeaieaaaeaaeaaaaaaaaaiiiieiiiichaeeaeaaieea,e ,,,       . iainaiiiiiiiiiiiiiiiii .aaaaaiaoaaeea\n",
            "Value:  0.75\n",
            "Generated sentence: \" thank you for the question! we loved it. \"\n",
            "thank you for the question! we loved it. earcyeocaaasioaaa aaiaaararieiayie.wriyir,dc,r4,a wianraecfhpieniiiirr&oaa,, aaau@!icapfs orarertaaaancaiiitea\n",
            "Value:  1.0\n",
            "Generated sentence: \" thank you for the question! we loved it. \"\n",
            "thank you for the question! we loved it.  atne.oaaitaiydaaoiea2a.aqauwysn aaryircoeyavylitrrttierocc)no,efggiaslyasssa.tn)aoaaatdfss i aaa  , n-aaocw s\n",
            "Value:  1.25\n",
            "Generated sentence: \" thank you for the question! we loved it. \"\n",
            "thank you for the question! we loved it. ymnibeeieyeowoalir.aar?amramaaendtoaas tr/rubhitaapteeirip0i2wtnft4ppvthry&iiioewemepo i@a !fseuaccwe,neiiei&t\n",
            "Epoch 16/20\n",
            "364/364 [==============================] - 115s 315ms/step - loss: 1.3404\n",
            "\n",
            "Generating Text after Epoch  15\n",
            "Value:  0.5\n",
            "Generated sentence: \" fun show tonight after the #nflkickoff game with @\"\n",
            "fun show tonight after the #nflkickoff game with @kandiesteroon, and music from @caresidsons plus, the gant to age me fin the misture. #fallontonight #fallonton\n",
            "Value:  0.75\n",
            "Generated sentence: \" fun show tonight after the #nflkickoff game with @\"\n",
            "fun show tonight after the #nflkickoff game with @kepraychare to @molowotus, @tharoots, @kimmobnys &amp; @chali_thespasti go. sme you sunbry this  #thonk@deboja\n",
            "Value:  1.0\n",
            "Generated sentence: \" fun show tonight after the #nflkickoff game with @\"\n",
            "fun show tonight after the #nflkickoff game with @bjeneconbins, and tag it with #mowardes. whenals peeviry quirys. (couleda, book. i mos  #jbcalth witc  out err\n",
            "Value:  1.25\n",
            "Generated sentence: \" fun show tonight after the #nflkickoff game with @\"\n",
            "fun show tonight after the #nflkickoff game with @kench_rins. so dome a weokd oc pursumic). #thimmseadatiins.0quarynina!!! 11q: 1o @powmancandewere and wadlive \n",
            "Epoch 17/20\n",
            "364/364 [==============================] - 116s 317ms/step - loss: 1.2775\n",
            "\n",
            "Generating Text after Epoch  16\n",
            "Value:  0.5\n",
            "Generated sentence: \" tonight show testimony  #fallontonight\"\n",
            "tonight show testimony  #fallontonightitaaaaiisatdatrc.taacitetcaiaottetesat.teet,.ceaa   eaee a  c  saeaae,,,    !!iaprc,@ )aialilsaaasdc,,nsssg,,,\n",
            "Value:  0.75\n",
            "Generated sentence: \" tonight show testimony  #fallontonight\"\n",
            "tonight show testimony  #fallontonightiitiaanctcaaiiof.taeotitccclctctaotet eytacdsataree dgaeaataaeasyclrteaacytcattsttcceeettt)fccainttcccttctettt\n",
            "Value:  1.0\n",
            "Generated sentence: \" tonight show testimony  #fallontonight\"\n",
            "tonight show testimony  #fallontonightcyimse)iiic)itcecfiiisratesh.lwsnotrocs,z&aesiyawjaew.kica 7rsase ssesed es, 2:acaces,)sshc.vlmcss,,!sasewdd'd\n",
            "Value:  1.25\n",
            "Generated sentence: \" tonight show testimony  #fallontonight\"\n",
            "tonight show testimony  #fallontonightecy.iiats-iotcettttutsyatcyoccitc.oanliiacg.dqyeirtc,rcae/ .a.t tbotuaiitmvawtottsic.hrqydacdsse.al eudaaon/t.\n",
            "Epoch 18/20\n",
            "364/364 [==============================] - 115s 315ms/step - loss: 1.2295\n",
            "\n",
            "Generating Text after Epoch  17\n",
            "Value:  0.5\n",
            "Generated sentence: \" zen mad lib theater tonight with @drewbarrymore  \"\n",
            "zen mad lib theater tonight with @drewbarrymore  oro ral adiit! frm rane o u adig o as o as. lo ra sto o as o acio  t ak o u.. reastmeo a o amria o rai.. les e\n",
            "Value:  0.75\n",
            "Generated sentence: \" zen mad lib theater tonight with @drewbarrymore  \"\n",
            "zen mad lib theater tonight with @drewbarrymore  ado as vdi a ofe ao o u are. or firu oe) igtas!mtadi lcda t o a o al i oa e uroa a of i o. lmssn.. as o etbr-a\n",
            "Value:  1.0\n",
            "Generated sentence: \" zen mad lib theater tonight with @drewbarrymore  \"\n",
            "zen mad lib theater tonight with @drewbarrymore  oes avilnae tin ho,yer isp o arrci! lkgnissuruc!ta ad da e of as bok!! frm ot u ad  2knur laaihyu!!s adaz.hles\n",
            "Value:  1.25\n",
            "Generated sentence: \" zen mad lib theater tonight with @drewbarrymore  \"\n",
            "zen mad lib theater tonight with @drewbarrymore  tiks u,etia rcwsowet @bsng#txi tdy @hmsiatkuscirsigt d.a o fo. rachns!ye: et-agafe.jlalsky4taf!t is o axrae!#i\n",
            "Epoch 19/20\n",
            "364/364 [==============================] - 115s 317ms/step - loss: 1.1645\n",
            "\n",
            "Generating Text after Epoch  18\n",
            "Value:  0.5\n",
            "Generated sentence: \" we've got another episode of #fallonathome tonight\"\n",
            "we've got another episode of #fallonathome tonight thin s and in one carrite by and the brockd and tag it with #addawordruinall. could be on the show!!!! you ga\n",
            "Value:  0.75\n",
            "Generated sentence: \" we've got another episode of #fallonathome tonight\"\n",
            "we've got another episode of #fallonathome tonight this ats mo - got. thank you beat songs ard is subery ard weday stere songaurd. purmores it weed at @camplil \n",
            "Value:  1.0\n",
            "Generated sentence: \" we've got another episode of #fallonathome tonight\"\n",
            "we've got another episode of #fallonathome tonight tris doher giins quearicateniefailengionallufaliofs worddue te surend ond tomint firs byon! mo:e.  ind wather\n",
            "Value:  1.25\n",
            "Generated sentence: \" we've got another episode of #fallonathome tonight\"\n",
            "we've got another episode of #fallonathome tonight! #tnighous liet spuly watway thby way surp tidey yrut pothers coindrull will me-ring our gome - recp like yer\n",
            "Epoch 20/20\n",
            "364/364 [==============================] - 116s 319ms/step - loss: 1.1198\n",
            "\n",
            "Generating Text after Epoch  19\n",
            "Value:  0.5\n",
            "Generated sentence: \" all new #fallontonight starts in 5 mins.... @kenda\"\n",
            "all new #fallontonight starts in 5 mins.... @kendarmasher dond of i love happeng in the miksome tonight of @fallontonight ! #fallontonight #fallonmonolive #fall\n",
            "Value:  0.75\n",
            "Generated sentence: \" all new #fallontonight starts in 5 mins.... @kenda\"\n",
            "all new #fallontonight starts in 5 mins.... @kendamma herpigain thenkent. blat watch #bistrycolleever and takint #itherewartt! #fallontonight #towethaneameer ch\n",
            "Value:  1.0\n",
            "Generated sentence: \" all new #fallontonight starts in 5 mins.... @kenda\"\n",
            "all new #fallontonight starts in 5 mins.... @kendalcamerical in one ferration with @plaregheronagd, wers for pyop on fion erviige! chalk. a weak to pa vote soun\n",
            "Value:  1.25\n",
            "Generated sentence: \" all new #fallontonight starts in 5 mins.... @kenda\"\n",
            "all new #fallontonight starts in 5 mins.... @kendalvertisser #shiojsaba-tay, and tusicale3 pacust ridsp everyoje of knisina spees gorne hame #linathesirike )  #\n"
          ],
          "name": "stdout"
        },
        {
          "output_type": "execute_result",
          "data": {
            "text/plain": [
              "<tensorflow.python.keras.callbacks.History at 0x7f77e8ca6190>"
            ]
          },
          "metadata": {
            "tags": []
          },
          "execution_count": 60
        }
      ]
    },
    {
      "cell_type": "code",
      "metadata": {
        "id": "Mrg_W8QzH6QB"
      },
      "source": [
        ""
      ],
      "execution_count": null,
      "outputs": []
    },
    {
      "cell_type": "code",
      "metadata": {
        "id": "tU9TpYSHJyHv"
      },
      "source": [
        "# create text with a given sentence and diversity  value\n",
        "\n",
        "def generate_text(sentence, diversity):\n",
        "  sentence = sentence[0: LENGTH]\n",
        "  print('sentence: ',sentence)\n",
        "  print('diversity: ',diversity)\n",
        "\n",
        "  generated = ''\n",
        "  generated += sentence\n",
        "  text_generated = ''\n",
        "  sys.stdout.write(generated)\n",
        "\n",
        "  for i in range(120):\n",
        "    x_pred = np.zeros((1, LENGTH, len(chars)))\n",
        "    for j, character in enumerate(sentence):\n",
        "      x_pred[0, j, char_number[character]] = 1\n",
        "    \n",
        "    prediction = baseline_model.predict(x_pred, verbose=0)[0]\n",
        "    next_index = create_sample(prediction, diversity)\n",
        "    next_char = number_char[next_index]\n",
        "\n",
        "    generated += next_char\n",
        "    text_generated += next_char  \n",
        "    sentence = sentence[1:] + next_char\n",
        "\n",
        "    sys.stdout.write(next_char)\n",
        "    sys.stdout.flush()\n",
        "  print()\n",
        "  return text_generated\n",
        "\n",
        "\n",
        "      \n"
      ],
      "execution_count": null,
      "outputs": []
    },
    {
      "cell_type": "code",
      "metadata": {
        "id": "QDPYDfuFZ7Rp",
        "colab": {
          "base_uri": "https://localhost:8080/"
        },
        "outputId": "ebe7ec24-ccf6-464f-ecc2-b6f37b56c417"
      },
      "source": [
        "generated_texts = []\n",
        "\n",
        "# create sentences and add them to the generated_texts list\n",
        "for sample in random.sample(list(tweets), 30):\n",
        "  for diversity in [ 0.75]:\n",
        "    generated_texts.append(generate_text(sample, diversity))\n",
        "    print()"
      ],
      "execution_count": null,
      "outputs": [
        {
          "output_type": "stream",
          "text": [
            "sentence:  the tonight show: at home edition (arnold @schwarz\n",
            "diversity:  0.75\n",
            "the tonight show: at home edition (arnold @schwarzzedeggad @therotstrass, and i storgturt and friends. thanks keroo soonat. ove you day  #fallontonight #thatpots2#fallon \n",
            "\n",
            "sentence:  fun show tonight with a very special guest! plus, \n",
            "diversity:  0.75\n",
            "fun show tonight with a very special guest! plus, @righar @nackmunerlco @allersinnol. sup your funny by @alyofiecx &amp; me in the subway?!!! #gassafanout faglivis. what \n",
            "\n",
            "sentence:  every friday leading up to black friday @dopequeen\n",
            "diversity:  0.75\n",
            "every friday leading up to black friday @dopequeenphears #fallontonight #fallonmontent #fallonmonogit! #the askay #fallonisht #fallontonight thinks! #fallontonight #nacks\n",
            "\n",
            "sentence:  were on tonight! like soon... #fallontonight #nbc \n",
            "diversity:  0.75\n",
            "were on tonight! like soon... #fallontonight #nbc 11:35pm @ranyonmuncell. ith thank you more for way loved borks!!!! him manigite soorm co gave to and it in. hould a ge s\n",
            "\n",
            "sentence:  tonight on the show: @keeganmkey and @mrhoratiosan\n",
            "diversity:  0.75\n",
            "tonight on the show: @keeganmkey and @mrhoratiosand  and music from @thedealjon &amp; @ellincxwarkun! #fallontonight  #fallontonight #fallonlive  #fallontonight #fallonto\n",
            "\n",
            "sentence:  let the s***show go @kristenbell  \n",
            "diversity:  0.75\n",
            "let the s***show go @kristenbell  aaa?eeaaaa!tcgcaae@enlb,a,s a0t.aa&acfaedarys  aanrfa i aaaeam aaeaalsacdaeaaaaaldwa!a hai.i!ooefns laaaa aapicc!earaesr\n",
            "\n",
            "sentence:  the tonight show (michael che, @mpinoe, and music \n",
            "diversity:  0.75\n",
            "the tonight show (michael che, @mpinoe, and music from @aurixmilson! #fallontonight #falesneved #thomistin #ftereincbysuge #fallontonight tonight! #fallontonight #fbreyto\n",
            "\n",
            "sentence:  news &amp; jokes for friday 1/8/21. #fallontonight\n",
            "diversity:  0.75\n",
            "news &amp; jokes for friday 1/8/21. #fallontonight #fallonmono #bt gits you.  #fallontonight #toyousterfuthingsmur. ill te do a kand for sand to beat reter to you wath th\n",
            "\n",
            "sentence:  .@queereye's fab five and i ride \"the beast\"  #fal\n",
            "diversity:  0.75\n",
            ".@queereye's fab five and i ride \"the beast\"  #fallontonight sulpy it here working!!!! wealave that has the finntered homoretion and tag it with #decorbanthinges, and tag\n",
            "\n",
            "sentence:  the tonight show: at home edition (@itsgabrielleu,\n",
            "diversity:  0.75\n",
            "the tonight show: at home edition (@itsgabrielleu, @nossen in hom @frossnywill, my fall. to cetere the cortane, sumpary sing at i wanter histion alfore. whis my favory an\n",
            "\n",
            "sentence:  im joining @theroots, @lin_manuel the cast of @ham\n",
            "diversity:  0.75\n",
            "im joining @theroots, @lin_manuel the cast of @haminton b#the molk ntw stons and a come a pelfor and the tow il to with bes wo kin  and tag it with #werdationsincersong f\n",
            "\n",
            "sentence:  all the details on @chancetherapper's debut record\n",
            "diversity:  0.75\n",
            "all the details on @chancetherapper's debut record and it ingthous tho book stors to beckrude! #fallonathome #fbllonswithep. ceuld be on the show! #once sovething fun soo\n",
            "\n",
            "sentence:  tonight on the show: @michaelstrahan and the @bell\n",
            "diversity:  0.75\n",
            "tonight on the show: @michaelstrahan and the @bellethen and @saraccinnn g  @itrrewheld @nows piffor stors it alk you redline @noj in the fallons and us in jatpert ant to \n",
            "\n",
            "sentence:  it's hashtags time! tweet out something funny, wei\n",
            "diversity:  0.75\n",
            "it's hashtags time! tweet out something funny, weird on and hame and tag it with #lockpote thanks presing thes onfail you love - works luck a wail  #bistholldie danty lak\n",
            "\n",
            "sentence:  congratulations to president @joebiden and vice pr\n",
            "diversity:  0.75\n",
            "congratulations to president @joebiden and vice presing this manon quarantine ond could a witt io hilly have best and our a jobing and beron a but wo. . could be on the s\n",
            "\n",
            "sentence:  lets be honest - i think you were higher than me b\n",
            "diversity:  0.75\n",
            "lets be honest - i think you were higher than me before hore and thereting my favorits now howering thes the kicklick the ofe. weeld be in a while #bostwork fro. could be\n",
            "\n",
            "sentence:  coming up next... market crunch. #fallontonight \n",
            "diversity:  0.75\n",
            "coming up next... market crunch. #fallontonight oar.   y  .ii  ttaso uoli  wtsehe a iorteu.e a i iaeciidygnmsat cerrtia.tn dei ee ii be hpe  cpise?  aaat  eyrai  ihrimn\n",
            "\n",
            "sentence:  always great to see you. thank you again. (i still\n",
            "diversity:  0.75\n",
            "always great to see you. thank you again. (i still heve to cant the show -ther with sechidgot offur. hop tonight!!! mo feap a (and heloting in a fallon thank you more los\n",
            "\n",
            "sentence:  i am so jealous. not kidding. it is my favorite. \n",
            "diversity:  0.75\n",
            "i am so jealous. not kidding. it is my favorite. hev i ac hodisoe eprus o acima i.ilie o  aditols o as o a u ar i.e o ucv am.. ia o lakig o a o es o api o al o akigr.h i\n",
            "\n",
            "sentence:  me neither. this was the hardest ive laughed in a \n",
            "diversity:  0.75\n",
            "me neither. this was the hardest ive laughed in a fanloning tonight and eread noteved to go stiring @andrecurcs! plus, a performance from @romingoneft)  #fallontonight #t\n",
            "\n",
            "sentence:  we just wanted to take this moment to say... goodb\n",
            "diversity:  0.75\n",
            "we just wanted to take this moment to say... goodby and thanks bo sume dis it out to sper a hippert and hein be our to ghe thes tay howard for the besing for a king soodd\n",
            "\n",
            "sentence:  first break - making up a song on the spot with @t\n",
            "diversity:  0.75\n",
            "first break - making up a song on the spot with @theroots afd you gut.. i said the fatirito show tonight. treat har new from then eftireals. heappen. comy again! weal new\n",
            "\n",
            "sentence:  news &amp; jokes for thursday 11/19/20. #fallonton\n",
            "diversity:  0.75\n",
            "news &amp; jokes for thursday 11/19/20. #fallontonight #fallonmono #bllonthis guy!!!! #hamilfeve watch the wall be the that wey werdat. @millyelle for @allyfilite with @d\n",
            "\n",
            "sentence:  i purple you all  \n",
            "diversity:  0.75\n",
            "i purple you all  ea!@s a )aool,ae,eacda.,oosatu.eiy.l rceoi,idiooslecpeco,of@,lf,is,et!f@e,dcice.ecps,eisslspoore,a3o codcwcoced0saao wco\n",
            "\n",
            "sentence:  tonight on the show: @miloventimiglia, mayor @pete\n",
            "diversity:  0.75\n",
            "tonight on the show: @miloventimiglia, mayor @petepiday  #fallontonight #thesperflix #fallontonight afiens. #incmirails #bapplets night the prestired and watch on antiev \n",
            "\n",
            "sentence:  tiktok collects personal info without consent, has\n",
            "diversity:  0.75\n",
            "tiktok collects personal info without consent, has tonight! #fallontonight #quarantenes #fallontonight #fallonthinks #btsoummerinas #blackstirs in @jullbrinnel, @nownstin\n",
            "\n",
            "sentence:  you were the one making me laugh! thanks again for\n",
            "diversity:  0.75\n",
            "you were the one making me laugh! thanks again for have derees and save cougrat in the funs fromes to copy frim book thes wather hespalisters to dust of help they! #fallo\n",
            "\n",
            "sentence:  #noseson in honor of #rednoseday! go to  to learn \n",
            "diversity:  0.75\n",
            "#noseson in honor of #rednoseday! go to  to learn thank ald of your dad how!!! i ada to hook of myker adicane. 11:35, @obtonmond and lusic from @theectandingra)  #fallont\n",
            "\n",
            "sentence:  its hashtags time! take a song title and add one w\n",
            "diversity:  0.75\n",
            "its hashtags time! take a song title and add one word wotchinn llove you to out for mids. . cants ma ching or lian ik orfe. i love you to dust fith tonight on @fallontoni\n",
            "\n",
            "sentence:  thong th-thong thong thong.  \n",
            "diversity:  0.75\n",
            "thong th-thong thong thong.  eaaaiaccoaoeaaaeaaoda acaaaagaaeaeer ,ortfccomerwr,mf ,awbce.ssw,,aa,caicufgoeuwsrrraea,oteecebrrctcertc!accwess,!a@aara\n",
            "\n"
          ],
          "name": "stdout"
        }
      ]
    },
    {
      "cell_type": "markdown",
      "metadata": {
        "id": "jTwhcOnZLtwP"
      },
      "source": [
        "## Save Generated Text as Pickle File"
      ]
    },
    {
      "cell_type": "code",
      "metadata": {
        "id": "-k2oj5B4Lx1R"
      },
      "source": [
        "# export generated text\n",
        "\n",
        "text_pickle_out = open(\"fallon_text_generation_baseline.pickle\", 'wb')\n",
        "pickle.dump(generated_texts, text_pickle_out)\n",
        "text_pickle_out.close()"
      ],
      "execution_count": null,
      "outputs": []
    },
    {
      "cell_type": "code",
      "metadata": {
        "id": "TDARIE_fpPUy"
      },
      "source": [
        ""
      ],
      "execution_count": null,
      "outputs": []
    }
  ]
}